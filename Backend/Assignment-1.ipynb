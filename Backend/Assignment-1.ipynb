{
 "cells": [
  {
   "cell_type": "markdown",
   "metadata": {},
   "source": [
    "\n",
    "\n",
    "\n",
    "\n",
    "\n",
    "\n"
   ]
  },
  {
   "cell_type": "markdown",
   "metadata": {},
   "source": [
    "### Business Analytics - Assignment 1 {-}\n",
    "\n",
    "\n",
    "---"
   ]
  },
  {
   "cell_type": "markdown",
   "metadata": {},
   "source": [
    "**Assignment Points**: 100  \n",
    "**Due Date**: Friday Week 4 (17 March) @ 11.59pm  \n",
    "**Submission**: Submit your file using the submission link on iLearn\n",
    "\n",
    "\n",
    "- Put **all your work** into this file;\n",
    "- Failure to supply solutions in the cells provided below each question will result in a loss of 30 points;\n",
    "- Follow all instructions closely and **do not** print your variables to the screen unless explicitly asked to do so;\n",
    "    - Comment out print statements where necessary and make sure that your submitted notebook does not have the output of previously executed print statements;\n",
    "    - 10 marks will be deducted for every redundant print statement not explicitly asked for.\n",
    "\n"
   ]
  },
  {
   "cell_type": "markdown",
   "metadata": {},
   "source": [
    "### About the Assignment\n",
    "\n",
    "Credit score cards are used as a risk control method in the financial industry. Personal information submitted by credit card applicants are used to predict the probability of future defaults. The bank employs such data to decide whether to issue a credit card to the applicant or not.\n",
    "\n",
    "\n",
    "\n",
    "\n",
    "| Feature Name         | Explanation     | Additional Remarks |\n",
    "|--------------|-----------|-----------|\n",
    "| ID | Randomly allocated client number      |         |\n",
    "| Income   | Annual income  |  |\n",
    "| Gender   | Applicant's Gender   | Male = 0, Female = 1  |\n",
    "| Car | Car Ownership | Yes = 1, No = 0 | \n",
    "| Children | Number of Children | |\n",
    "| Real Estate | Real Estate Ownership | Yes = 1, No = 0 \n",
    "| Days Since Birth | No. of Days | Count backwards from current day (0), -1 means yesterday\n",
    "| Days Employed | No. of Days | Count backwards from current day(0). If positive, it means the person is currently unemployed.\n",
    "| Payment Default | Whether a client has overdue credit card payments | Yes = 1, No = 0\n",
    "\n"
   ]
  },
  {
   "cell_type": "markdown",
   "metadata": {},
   "source": [
    "---"
   ]
  },
  {
   "cell_type": "markdown",
   "metadata": {},
   "source": [
    "\n",
    "### Problem 1 - (50 points) {-}\n"
   ]
  },
  {
   "cell_type": "markdown",
   "metadata": {},
   "source": [
    "**Question 1** \n",
    "\n",
    "- Import the `assignment_data.xlsx` file from `data` folder into a pandas DataFrame named `df`; \n",
    "- Delete duplicate rows from `df` according to `ID`;\n",
    "- Delete the `ID` column.\n",
    "- How many rows are left in `df`?\n",
    "\n",
    "(10 points)"
   ]
  },
  {
   "cell_type": "code",
   "execution_count": 41,
   "metadata": {},
   "outputs": [
    {
     "name": "stdout",
     "output_type": "stream",
     "text": [
      "5976\n",
      "Number of rows left in the dataframe: 5976\n"
     ]
    }
   ],
   "source": [
    "# add your code here\n",
    "import pandas as pd\n",
    "\n",
    "df= pd.read_excel('data/assignment_data.xlsx')\n",
    "df.head(10)\n",
    "#print( \"original df\", df)\n",
    "\n",
    "#Deleting duplicate rows from df according to ID\n",
    "df.drop_duplicates(subset=\"ID\", keep= \"first\", inplace=True) \n",
    "df.drop(\"ID\", axis=1, inplace=True)\n",
    "print(len(df))\n",
    "\n",
    "\n",
    "#Number of rows  left in df\n",
    "num_rows = len(df)\n",
    "print(\"Number of rows left in the dataframe:\", num_rows)"
   ]
  },
  {
   "cell_type": "markdown",
   "metadata": {},
   "source": [
    "--- add your text answer here\n"
   ]
  },
  {
   "cell_type": "markdown",
   "metadata": {},
   "source": [
    "---\n",
    "\n",
    "**Question 2**\n",
    "\n",
    "- Reset the index in `df` using an appropriate function from `pandas` so that the new index corresponds to the number of rows (make sure to delete the old index). \n",
    "- How many positive values of `Days Employed` are there?\n",
    "- Replace the positive values of `Days Employed` with 0 (zero) in `df`\n",
    "\n",
    "(10 points)"
   ]
  },
  {
   "cell_type": "code",
   "execution_count": 43,
   "metadata": {},
   "outputs": [
    {
     "name": "stdout",
     "output_type": "stream",
     "text": [
      "original df       Gender  Car  Real Estate  Children    Income  Days Since Birth  \\\n",
      "0          0    1            0         0  135000.0            -10239   \n",
      "1          0    0            1         0  202500.0            -13645   \n",
      "2          1    0            1         0  157500.0            -16628   \n",
      "3          0    0            0         1  270000.0            -10108   \n",
      "4          1    1            1         1  135000.0            -15481   \n",
      "...      ...  ...          ...       ...       ...               ...   \n",
      "9992       0    1            0         0  225000.0             -9479   \n",
      "9993       0    1            1         2  211500.0            -10435   \n",
      "9994       1    0            0         0   76500.0            -16876   \n",
      "9995       0    1            1         0  180000.0            -17115   \n",
      "9999       1    0            1         0  202500.0            -15047   \n",
      "\n",
      "      Days Employed  Payment Default  \n",
      "0            365243                1  \n",
      "1             -5374                1  \n",
      "2             -3654                1  \n",
      "3             -1473                1  \n",
      "4             -2874                0  \n",
      "...             ...              ...  \n",
      "9992          -1143                1  \n",
      "9993          -2987                1  \n",
      "9994            -97                0  \n",
      "9995          -4599                0  \n",
      "9999          -1720                1  \n",
      "\n",
      "[5976 rows x 8 columns]\n",
      "Dataframe after resetting the index:       Gender  Car  Real Estate  Children    Income  Days Since Birth  \\\n",
      "0          0    1            0         0  135000.0            -10239   \n",
      "1          0    0            1         0  202500.0            -13645   \n",
      "2          1    0            1         0  157500.0            -16628   \n",
      "3          0    0            0         1  270000.0            -10108   \n",
      "4          1    1            1         1  135000.0            -15481   \n",
      "...      ...  ...          ...       ...       ...               ...   \n",
      "5971       0    1            0         0  225000.0             -9479   \n",
      "5972       0    1            1         2  211500.0            -10435   \n",
      "5973       1    0            0         0   76500.0            -16876   \n",
      "5974       0    1            1         0  180000.0            -17115   \n",
      "5975       1    0            1         0  202500.0            -15047   \n",
      "\n",
      "      Days Employed  Payment Default  \n",
      "0            365243                1  \n",
      "1             -5374                1  \n",
      "2             -3654                1  \n",
      "3             -1473                1  \n",
      "4             -2874                0  \n",
      "...             ...              ...  \n",
      "5971          -1143                1  \n",
      "5972          -2987                1  \n",
      "5973            -97                0  \n",
      "5974          -4599                0  \n",
      "5975          -1720                1  \n",
      "\n",
      "[5976 rows x 8 columns]\n"
     ]
    },
    {
     "data": {
      "text/html": [
       "<div>\n",
       "<style scoped>\n",
       "    .dataframe tbody tr th:only-of-type {\n",
       "        vertical-align: middle;\n",
       "    }\n",
       "\n",
       "    .dataframe tbody tr th {\n",
       "        vertical-align: top;\n",
       "    }\n",
       "\n",
       "    .dataframe thead th {\n",
       "        text-align: right;\n",
       "    }\n",
       "</style>\n",
       "<table border=\"1\" class=\"dataframe\">\n",
       "  <thead>\n",
       "    <tr style=\"text-align: right;\">\n",
       "      <th></th>\n",
       "      <th>Gender</th>\n",
       "      <th>Car</th>\n",
       "      <th>Real Estate</th>\n",
       "      <th>Children</th>\n",
       "      <th>Income</th>\n",
       "      <th>Days Since Birth</th>\n",
       "      <th>Days Employed</th>\n",
       "      <th>Payment Default</th>\n",
       "    </tr>\n",
       "  </thead>\n",
       "  <tbody>\n",
       "    <tr>\n",
       "      <th>0</th>\n",
       "      <td>0</td>\n",
       "      <td>1</td>\n",
       "      <td>0</td>\n",
       "      <td>0</td>\n",
       "      <td>135000.0</td>\n",
       "      <td>-10239</td>\n",
       "      <td>365243</td>\n",
       "      <td>1</td>\n",
       "    </tr>\n",
       "    <tr>\n",
       "      <th>1</th>\n",
       "      <td>0</td>\n",
       "      <td>0</td>\n",
       "      <td>1</td>\n",
       "      <td>0</td>\n",
       "      <td>202500.0</td>\n",
       "      <td>-13645</td>\n",
       "      <td>-5374</td>\n",
       "      <td>1</td>\n",
       "    </tr>\n",
       "    <tr>\n",
       "      <th>2</th>\n",
       "      <td>1</td>\n",
       "      <td>0</td>\n",
       "      <td>1</td>\n",
       "      <td>0</td>\n",
       "      <td>157500.0</td>\n",
       "      <td>-16628</td>\n",
       "      <td>-3654</td>\n",
       "      <td>1</td>\n",
       "    </tr>\n",
       "    <tr>\n",
       "      <th>3</th>\n",
       "      <td>0</td>\n",
       "      <td>0</td>\n",
       "      <td>0</td>\n",
       "      <td>1</td>\n",
       "      <td>270000.0</td>\n",
       "      <td>-10108</td>\n",
       "      <td>-1473</td>\n",
       "      <td>1</td>\n",
       "    </tr>\n",
       "    <tr>\n",
       "      <th>4</th>\n",
       "      <td>1</td>\n",
       "      <td>1</td>\n",
       "      <td>1</td>\n",
       "      <td>1</td>\n",
       "      <td>135000.0</td>\n",
       "      <td>-15481</td>\n",
       "      <td>-2874</td>\n",
       "      <td>0</td>\n",
       "    </tr>\n",
       "  </tbody>\n",
       "</table>\n",
       "</div>"
      ],
      "text/plain": [
       "   Gender  Car  Real Estate  Children    Income  Days Since Birth  \\\n",
       "0       0    1            0         0  135000.0            -10239   \n",
       "1       0    0            1         0  202500.0            -13645   \n",
       "2       1    0            1         0  157500.0            -16628   \n",
       "3       0    0            0         1  270000.0            -10108   \n",
       "4       1    1            1         1  135000.0            -15481   \n",
       "\n",
       "   Days Employed  Payment Default  \n",
       "0         365243                1  \n",
       "1          -5374                1  \n",
       "2          -3654                1  \n",
       "3          -1473                1  \n",
       "4          -2874                0  "
      ]
     },
     "execution_count": 43,
     "metadata": {},
     "output_type": "execute_result"
    }
   ],
   "source": [
    "# add your code here\n",
    "print('original df', df)\n",
    "df.head()\n",
    "\n",
    "df=df.reset_index(drop=True)\n",
    "print(\"Dataframe after resetting the index:\", df)\n",
    "df.head()"
   ]
  },
  {
   "cell_type": "code",
   "execution_count": 44,
   "metadata": {},
   "outputs": [
    {
     "name": "stdout",
     "output_type": "stream",
     "text": [
      "Number of positive values of Days Employed: 967\n"
     ]
    }
   ],
   "source": [
    "# count the number of positive values of Days Employed\n",
    "positive_value = len(df[df['Days Employed'] > 0])\n",
    "\n",
    "print('Number of positive values of Days Employed:', positive_value)"
   ]
  },
  {
   "cell_type": "code",
   "execution_count": 45,
   "metadata": {},
   "outputs": [
    {
     "name": "stdout",
     "output_type": "stream",
     "text": [
      "      Gender  Car  Real Estate  Children    Income  Days Since Birth  \\\n",
      "0          0    1            0         0  135000.0            -10239   \n",
      "1          0    0            1         0  202500.0            -13645   \n",
      "2          1    0            1         0  157500.0            -16628   \n",
      "3          0    0            0         1  270000.0            -10108   \n",
      "4          1    1            1         1  135000.0            -15481   \n",
      "...      ...  ...          ...       ...       ...               ...   \n",
      "5971       0    1            0         0  225000.0             -9479   \n",
      "5972       0    1            1         2  211500.0            -10435   \n",
      "5973       1    0            0         0   76500.0            -16876   \n",
      "5974       0    1            1         0  180000.0            -17115   \n",
      "5975       1    0            1         0  202500.0            -15047   \n",
      "\n",
      "      Days Employed  Payment Default  \n",
      "0                 0                1  \n",
      "1             -5374                1  \n",
      "2             -3654                1  \n",
      "3             -1473                1  \n",
      "4             -2874                0  \n",
      "...             ...              ...  \n",
      "5971          -1143                1  \n",
      "5972          -2987                1  \n",
      "5973            -97                0  \n",
      "5974          -4599                0  \n",
      "5975          -1720                1  \n",
      "\n",
      "[5976 rows x 8 columns]\n"
     ]
    }
   ],
   "source": [
    "#Replacing positive values of Days Employed with 0 (zero) in df\n",
    "df.loc[df['Days Employed'] > 0, 'Days Employed'] = 0\n",
    "print(df)"
   ]
  },
  {
   "cell_type": "code",
   "execution_count": null,
   "metadata": {},
   "outputs": [],
   "source": []
  },
  {
   "cell_type": "markdown",
   "metadata": {},
   "source": [
    "--- add your text answer here"
   ]
  },
  {
   "cell_type": "markdown",
   "metadata": {},
   "source": [
    "---\n",
    "**Question 3**\n",
    "\n",
    "Create two new variables in `df` named \n",
    "\n",
    "1. `Age`;\n",
    "2. `Years in Employment`,\n",
    "\n",
    "which measure age and employment length in **years** (decimal numbers) from `Days Since Birth` and `Days Employed` by applying approapriate transformations on these variables. \n",
    "\n",
    "Delete the original variables `Days Since Birth` and `Days Employed`.\n",
    "\n",
    "(5 points)\n"
   ]
  },
  {
   "cell_type": "code",
   "execution_count": 46,
   "metadata": {},
   "outputs": [
    {
     "name": "stdout",
     "output_type": "stream",
     "text": [
      "   Gender  Car  Real Estate  Children    Income  Days Since Birth  \\\n",
      "0       0    1            0         0  135000.0            -10239   \n",
      "1       0    0            1         0  202500.0            -13645   \n",
      "2       1    0            1         0  157500.0            -16628   \n",
      "3       0    0            0         1  270000.0            -10108   \n",
      "4       1    1            1         1  135000.0            -15481   \n",
      "\n",
      "   Days Employed  Payment Default    Age  Years in Employment  \n",
      "0              0                1  28.05                 0.00  \n",
      "1          -5374                1  37.38               -14.72  \n",
      "2          -3654                1  45.56               -10.01  \n",
      "3          -1473                1  27.69                -4.04  \n",
      "4          -2874                0  42.41                -7.87  \n"
     ]
    }
   ],
   "source": [
    "# add your code here\n",
    "# calculate age and years in employment\n",
    "df['Age'] = round(df['Days Since Birth']/-365, 2)\n",
    "df['Years in Employment'] = round(df['Days Employed']/365, 2)\n",
    "print(df.head())"
   ]
  },
  {
   "cell_type": "code",
   "execution_count": 47,
   "metadata": {},
   "outputs": [
    {
     "name": "stdout",
     "output_type": "stream",
     "text": [
      "   Gender  Car  Real Estate  Children    Income  Payment Default    Age  \\\n",
      "0       0    1            0         0  135000.0                1  28.05   \n",
      "1       0    0            1         0  202500.0                1  37.38   \n",
      "2       1    0            1         0  157500.0                1  45.56   \n",
      "3       0    0            0         1  270000.0                1  27.69   \n",
      "4       1    1            1         1  135000.0                0  42.41   \n",
      "\n",
      "   Years in Employment  \n",
      "0                 0.00  \n",
      "1               -14.72  \n",
      "2               -10.01  \n",
      "3                -4.04  \n",
      "4                -7.87  \n"
     ]
    }
   ],
   "source": [
    "# drop the original variables\n",
    "df = df.drop(['Days Since Birth', 'Days Employed'], axis=1)\n",
    "\n",
    "# print the updated dataframe\n",
    "print(df.head())"
   ]
  },
  {
   "cell_type": "markdown",
   "metadata": {},
   "source": [
    "---\n",
    "**Question 4**\n",
    "\n",
    "- Create a **one**-dimensional NumPy array named `y` by exporting the first 5,000 observations of `Payment_Default`. (Hint: see `ravel()` function)\n",
    "- Create a NumPy array named `X` by exporting the first 5,000 observations of the following columns `Gender`, `Car`, `Real Estate`, `Children`, `Income`, `Age`, `Years in Employment`.\n",
    " \n",
    "(10 points)\n"
   ]
  },
  {
   "cell_type": "code",
   "execution_count": 48,
   "metadata": {
    "scrolled": true
   },
   "outputs": [
    {
     "name": "stdout",
     "output_type": "stream",
     "text": [
      "[1 1 1 ... 0 1 0]\n",
      "[[     0.        1.        0.   ... 135000.       28.05      0.  ]\n",
      " [     0.        0.        1.   ... 202500.       37.38    -14.72]\n",
      " [     1.        0.        1.   ... 157500.       45.56    -10.01]\n",
      " ...\n",
      " [     0.        1.        1.   ... 225000.       56.68      0.  ]\n",
      " [     1.        1.        1.   ...  90000.       30.58     -5.22]\n",
      " [     1.        0.        1.   ... 135000.       56.85      0.  ]]\n",
      "   Gender  Car  Real Estate  Children    Income  Payment Default    Age  \\\n",
      "0       0    1            0         0  135000.0                1  28.05   \n",
      "1       0    0            1         0  202500.0                1  37.38   \n",
      "2       1    0            1         0  157500.0                1  45.56   \n",
      "3       0    0            0         1  270000.0                1  27.69   \n",
      "4       1    1            1         1  135000.0                0  42.41   \n",
      "\n",
      "   Years in Employment  \n",
      "0                 0.00  \n",
      "1               -14.72  \n",
      "2               -10.01  \n",
      "3                -4.04  \n",
      "4                -7.87  \n"
     ]
    }
   ],
   "source": [
    "# add your code here \n",
    "import numpy as np \n",
    "np.set_printoptions(precision=3, suppress = True)\n",
    "\n",
    "\n",
    "y = np.array(df['Payment Default'].head(5000)).ravel()\n",
    "\n",
    "x = np.array(df[['Gender', 'Car', 'Real Estate', 'Children', 'Income', 'Age', 'Years in Employment']].head(5000))\n",
    "print(y)\n",
    "print(x)\n",
    "print(df.head())\n",
    "\n"
   ]
  },
  {
   "cell_type": "markdown",
   "metadata": {},
   "source": [
    "---\n",
    "\n",
    "**Question 5** \n",
    "\n",
    "- Use an appropriate `scikit-learn` library we learned in class to create the following NumPy arrays: `y_train`, `y_test`, `X_train` and `X_test` by splitting the data into 70% training and 30% test datasets. \n",
    "- Set `random_state` to 0 and stratify subsamples so that train and test datasets have roughly equal proportions of the target's class labels. \n",
    "\n",
    "(5 points) "
   ]
  },
  {
   "cell_type": "code",
   "execution_count": 15,
   "metadata": {},
   "outputs": [
    {
     "name": "stdout",
     "output_type": "stream",
     "text": [
      "x_train shape:  (3500, 7)\n",
      "Y_train shape:  (3500,)\n",
      "x_test shape:  (1500, 7)\n",
      "Y_test shape:  (1500,)\n"
     ]
    }
   ],
   "source": [
    "# add your code here\n",
    "from sklearn.model_selection import train_test_split\n",
    "x_train, x_test, Y_train, Y_test = train_test_split(x, y, test_size=0.3, random_state=0, stratify=y)\n",
    "print(\"x_train shape: \", x_train.shape)\n",
    "print(\"Y_train shape: \", Y_train.shape)\n",
    "print(\"x_test shape: \", x_test.shape)\n",
    "print(\"Y_test shape: \", Y_test.shape)"
   ]
  },
  {
   "cell_type": "code",
   "execution_count": 18,
   "metadata": {},
   "outputs": [
    {
     "data": {
      "text/plain": [
       "array([[ 0.000e+00,  0.000e+00,  0.000e+00, ...,  5.400e+05,  5.478e+01,\n",
       "        -1.890e+00],\n",
       "       [ 0.000e+00,  1.000e+00,  1.000e+00, ...,  2.250e+05,  3.497e+01,\n",
       "        -6.180e+00],\n",
       "       [ 0.000e+00,  1.000e+00,  1.000e+00, ...,  1.350e+05,  4.805e+01,\n",
       "        -1.680e+00],\n",
       "       ...,\n",
       "       [ 0.000e+00,  1.000e+00,  0.000e+00, ...,  1.800e+05,  3.381e+01,\n",
       "        -9.540e+00],\n",
       "       [ 1.000e+00,  0.000e+00,  0.000e+00, ...,  1.350e+05,  3.265e+01,\n",
       "        -4.900e+00],\n",
       "       [ 0.000e+00,  1.000e+00,  1.000e+00, ...,  2.250e+05,  3.765e+01,\n",
       "        -5.300e+00]])"
      ]
     },
     "execution_count": 18,
     "metadata": {},
     "output_type": "execute_result"
    }
   ],
   "source": [
    "x_train"
   ]
  },
  {
   "cell_type": "code",
   "execution_count": 19,
   "metadata": {},
   "outputs": [
    {
     "data": {
      "text/plain": [
       "array([[ 1.000e+00,  1.000e+00,  1.000e+00, ...,  4.500e+05,  2.781e+01,\n",
       "        -7.620e+00],\n",
       "       [ 0.000e+00,  1.000e+00,  1.000e+00, ...,  1.800e+05,  4.380e+01,\n",
       "        -5.460e+00],\n",
       "       [ 1.000e+00,  0.000e+00,  0.000e+00, ...,  1.350e+05,  6.645e+01,\n",
       "         0.000e+00],\n",
       "       ...,\n",
       "       [ 0.000e+00,  0.000e+00,  1.000e+00, ...,  1.350e+05,  5.421e+01,\n",
       "        -4.300e+00],\n",
       "       [ 1.000e+00,  0.000e+00,  0.000e+00, ...,  2.025e+05,  4.866e+01,\n",
       "        -2.336e+01],\n",
       "       [ 1.000e+00,  0.000e+00,  1.000e+00, ...,  1.350e+05,  3.566e+01,\n",
       "        -6.370e+00]])"
      ]
     },
     "execution_count": 19,
     "metadata": {},
     "output_type": "execute_result"
    }
   ],
   "source": [
    "x_test"
   ]
  },
  {
   "cell_type": "markdown",
   "metadata": {},
   "source": [
    "---\n",
    "\n",
    "**Question 6**\n",
    "\n",
    "- Create new variables by using an appropriate `scikit-learn` library we learned in class to standardize the features from the training and test datasets to mean zero and variance one. Name the new variables by appending '_scaled' to the original variable names.\n",
    "\n",
    "\n",
    "(10 points)   "
   ]
  },
  {
   "cell_type": "code",
   "execution_count": 27,
   "metadata": {},
   "outputs": [
    {
     "name": "stdout",
     "output_type": "stream",
     "text": [
      "x_train_scaled shape:  (3500, 7)\n",
      "Y_train_scaled shape:  (3500,)\n",
      "x_test_scaled shape:  (1500, 7)\n",
      "Y_test_scaled shape:  (1500,)\n"
     ]
    }
   ],
   "source": [
    "# add your code here\n",
    "from sklearn.preprocessing import StandardScaler\n",
    "scaler = StandardScaler()\n",
    "scaler.fit(x_train)\n",
    "x_train_scaled = scaler.transform(x_train)\n",
    "Y_train_scaled = Y_train # target variable does not need to be scaled\n",
    "x_test_scaled = scaler.transform(x_test)\n",
    "Y_test_scaled = Y_test # target variable does not need to be scaled\n",
    "\n",
    "print(\"x_train_scaled shape: \", x_train_scaled.shape)\n",
    "print(\"Y_train_scaled shape: \", Y_train_scaled.shape)\n",
    "print(\"x_test_scaled shape: \", x_test_scaled.shape)\n",
    "print(\"Y_test_scaled shape: \", Y_test_scaled.shape)\n"
   ]
  },
  {
   "cell_type": "code",
   "execution_count": 23,
   "metadata": {},
   "outputs": [
    {
     "data": {
      "text/plain": [
       "array([[-1.36878165, -0.77625003, -1.35765124, ...,  3.01314197,\n",
       "         0.97073512,  0.64498503],\n",
       "       [-1.36878165,  1.28824472,  0.73656619, ...,  0.28476447,\n",
       "        -0.74749308, -0.01594057],\n",
       "       [-1.36878165,  1.28824472,  0.73656619, ..., -0.49477196,\n",
       "         0.3870059 ,  0.67733804],\n",
       "       ...,\n",
       "       [-1.36878165,  1.28824472, -1.35765124, ..., -0.10500375,\n",
       "        -0.84810614, -0.53358859],\n",
       "       [ 0.73057671, -0.77625003, -1.35765124, ..., -0.49477196,\n",
       "        -0.9487192 ,  0.18125868],\n",
       "       [-1.36878165,  1.28824472,  0.73656619, ...,  0.28476447,\n",
       "        -0.51504222,  0.11963392]])"
      ]
     },
     "execution_count": 23,
     "metadata": {},
     "output_type": "execute_result"
    }
   ],
   "source": [
    "x_train_scaled"
   ]
  },
  {
   "cell_type": "code",
   "execution_count": 24,
   "metadata": {},
   "outputs": [
    {
     "data": {
      "text/plain": [
       "array([[ 0.73057671,  1.28824472,  0.73656619, ...,  2.23360554,\n",
       "        -1.36851851, -0.23778972],\n",
       "       [-1.36878165,  1.28824472,  0.73656619, ..., -0.10500375,\n",
       "         0.01838047,  0.09498401],\n",
       "       [ 0.73057671, -0.77625003, -1.35765124, ..., -0.49477196,\n",
       "         1.98293719,  0.93616205],\n",
       "       ...,\n",
       "       [-1.36878165, -0.77625003,  0.73656619, ..., -0.49477196,\n",
       "         0.92129594,  0.27369583],\n",
       "       [ 0.73057671, -0.77625003, -1.35765124, ...,  0.08988036,\n",
       "         0.43991449, -2.6627242 ],\n",
       "       [ 0.73057671, -0.77625003,  0.73656619, ..., -0.49477196,\n",
       "        -0.68764565, -0.04521233]])"
      ]
     },
     "execution_count": 24,
     "metadata": {},
     "output_type": "execute_result"
    }
   ],
   "source": [
    "x_test_scaled"
   ]
  },
  {
   "cell_type": "markdown",
   "metadata": {},
   "source": [
    "---\n",
    "\n",
    "## Problem 2 - (20 Points) {-}\n",
    "\n",
    "**Question 7**\n",
    "\n",
    "Fit the following two classifiers to the transformed training dataset using `scikit-learn` libraries.\n",
    "\n",
    "- Perceptron - name your instance `pc` set `random_state=1`\n",
    "- Logistic Regression - name your instance `lr` set `random_state=1`\n",
    "\n",
    "When initializing instances of the above classifiers only set the parameters referenced above and nothing else.\n",
    "\n",
    "(20 points)"
   ]
  },
  {
   "cell_type": "code",
   "execution_count": 32,
   "metadata": {},
   "outputs": [
    {
     "data": {
      "text/plain": [
       "LogisticRegression(random_state=1)"
      ]
     },
     "execution_count": 32,
     "metadata": {},
     "output_type": "execute_result"
    }
   ],
   "source": [
    "# add your code here\n",
    "from sklearn.linear_model import Perceptron,LogisticRegression\n",
    "\n",
    "pc= Perceptron(random_state=1)\n",
    "pc.fit(x_train_scaled, Y_train_scaled)\n",
    "lr= LogisticRegression(random_state=1)\n",
    "lr.fit(x_train_scaled, Y_train_scaled)\n",
    "\n",
    "\n"
   ]
  },
  {
   "cell_type": "code",
   "execution_count": 30,
   "metadata": {},
   "outputs": [
    {
     "name": "stdout",
     "output_type": "stream",
     "text": [
      "x_train_scaled shape:  (3500, 7)\n",
      "Y_train_scaled shape:  (3500,)\n",
      "x_test_scaled shape:  (1500, 7)\n",
      "Y_test_scaled shape:  (1500,)\n"
     ]
    }
   ],
   "source": [
    "print(\"x_train_scaled shape: \", x_train_scaled.shape)\n",
    "print(\"Y_train_scaled shape: \", Y_train_scaled.shape)\n",
    "print(\"x_test_scaled shape: \", x_test_scaled.shape)\n",
    "print(\"Y_test_scaled shape: \", Y_test_scaled.shape)"
   ]
  },
  {
   "cell_type": "code",
   "execution_count": 31,
   "metadata": {},
   "outputs": [
    {
     "data": {
      "text/plain": [
       "array([[-1.36878165, -0.77625003, -1.35765124, ...,  3.01314197,\n",
       "         0.97073512,  0.64498503],\n",
       "       [-1.36878165,  1.28824472,  0.73656619, ...,  0.28476447,\n",
       "        -0.74749308, -0.01594057],\n",
       "       [-1.36878165,  1.28824472,  0.73656619, ..., -0.49477196,\n",
       "         0.3870059 ,  0.67733804],\n",
       "       ...,\n",
       "       [-1.36878165,  1.28824472, -1.35765124, ..., -0.10500375,\n",
       "        -0.84810614, -0.53358859],\n",
       "       [ 0.73057671, -0.77625003, -1.35765124, ..., -0.49477196,\n",
       "        -0.9487192 ,  0.18125868],\n",
       "       [-1.36878165,  1.28824472,  0.73656619, ...,  0.28476447,\n",
       "        -0.51504222,  0.11963392]])"
      ]
     },
     "execution_count": 31,
     "metadata": {},
     "output_type": "execute_result"
    }
   ],
   "source": [
    "x_train_scaled"
   ]
  },
  {
   "cell_type": "code",
   "execution_count": 33,
   "metadata": {},
   "outputs": [
    {
     "data": {
      "text/plain": [
       "array([1, 1, 1, ..., 1, 1, 1])"
      ]
     },
     "execution_count": 33,
     "metadata": {},
     "output_type": "execute_result"
    }
   ],
   "source": [
    "pc.predict(x_train_scaled)"
   ]
  },
  {
   "cell_type": "code",
   "execution_count": 34,
   "metadata": {},
   "outputs": [
    {
     "data": {
      "text/plain": [
       "array([0, 1, 1, ..., 1, 1, 0])"
      ]
     },
     "execution_count": 34,
     "metadata": {},
     "output_type": "execute_result"
    }
   ],
   "source": [
    "pc.predict(x_test_scaled)\n"
   ]
  },
  {
   "cell_type": "code",
   "execution_count": 35,
   "metadata": {},
   "outputs": [
    {
     "data": {
      "text/plain": [
       "array([1, 1, 0, ..., 1, 1, 1])"
      ]
     },
     "execution_count": 35,
     "metadata": {},
     "output_type": "execute_result"
    }
   ],
   "source": [
    "lr.predict(x_train_scaled)"
   ]
  },
  {
   "cell_type": "code",
   "execution_count": 36,
   "metadata": {},
   "outputs": [
    {
     "data": {
      "text/plain": [
       "array([1, 0, 1, ..., 1, 1, 1])"
      ]
     },
     "execution_count": 36,
     "metadata": {},
     "output_type": "execute_result"
    }
   ],
   "source": [
    "lr.predict(x_test_scaled)"
   ]
  },
  {
   "cell_type": "markdown",
   "metadata": {},
   "source": [
    "---\n",
    "## Problem 3 - (30 points) {-}\n"
   ]
  },
  {
   "cell_type": "markdown",
   "metadata": {},
   "source": [
    "**Question 8**\n",
    "\n",
    "- Using a method built into each of the two classifiers compute their prediction accuracies on the training data;\n",
    "- Store the accuracy values into variables named according to the following pattern: `classifier_name_accuracy_train`, e.g. you should have `lr_accuracy_train`; \n",
    "- Print the two accuracy **variables** along with their brief descriptions.\n",
    "\n",
    "(10 points)"
   ]
  },
  {
   "cell_type": "code",
   "execution_count": 37,
   "metadata": {},
   "outputs": [
    {
     "name": "stdout",
     "output_type": "stream",
     "text": [
      "Perceptron classifier training accuracy:  0.5114285714285715\n",
      "LogisticRegression classifier training accuracy:  0.5577142857142857\n"
     ]
    }
   ],
   "source": [
    "# add your code here\n",
    "pc_accuracy_train = pc.score(x_train_scaled, Y_train_scaled)\n",
    "print(\"Perceptron classifier training accuracy: \", pc_accuracy_train)\n",
    "\n",
    "lr_accuracy_train = lr.score(x_train_scaled, Y_train_scaled)\n",
    "print(\"LogisticRegression classifier training accuracy: \", lr_accuracy_train)"
   ]
  },
  {
   "cell_type": "markdown",
   "metadata": {},
   "source": [
    "---\n",
    "\n",
    "**Question 9** \n",
    "\n",
    "- Using a method built into each of the above classifiers compute their prediction accuracy for the test dataset\n",
    "- Store the accuracy values into variables named according to the following pattern: `classifier_name_accuracy_test`, e.g. you should have `lr_accuracy_test`. \n",
    "- Print the two accuracy **variables** along with brief descriptions.\n",
    "\n",
    "(10 points)"
   ]
  },
  {
   "cell_type": "code",
   "execution_count": 49,
   "metadata": {},
   "outputs": [
    {
     "name": "stdout",
     "output_type": "stream",
     "text": [
      "Perceptron classifier test accuracy:  0.5133333333333333\n",
      "LogisticRegression classifier test accuracy:  0.5073333333333333\n"
     ]
    }
   ],
   "source": [
    "# add your code here\n",
    "pc_accuracy_test = pc.score(x_test_scaled, Y_test_scaled)\n",
    "print(\"Perceptron classifier test accuracy: \", pc_accuracy_test)\n",
    "\n",
    "lr_accuracy_test = lr.score(x_test_scaled, Y_test_scaled)\n",
    "print(\"LogisticRegression classifier test accuracy: \", lr_accuracy_test)"
   ]
  },
  {
   "cell_type": "markdown",
   "metadata": {},
   "source": [
    "---\n",
    "\n",
    "**Question 10** \n",
    "\n",
    "Using nicely formated text in Markdown comment on the accuracies computed in Questions 8 & 9 making sure you address:\n",
    "- training and test set datasets; \n",
    "- Perceptrion and Logistic Regression models. \n",
    "\n",
    "Are the results as expected, and why or why not? (Hint: You are not expected to comment on why a particular model is better.) \n",
    "\n",
    "(10 marks)\n"
   ]
  },
  {
   "cell_type": "markdown",
   "metadata": {},
   "source": [
    "--- add your text answer here"
   ]
  },
  {
   "cell_type": "code",
   "execution_count": null,
   "metadata": {},
   "outputs": [],
   "source": []
  }
 ],
 "metadata": {
  "kernelspec": {
   "display_name": "Python 3 (ipykernel)",
   "language": "python",
   "name": "python3"
  },
  "language_info": {
   "codemirror_mode": {
    "name": "ipython",
    "version": 3
   },
   "file_extension": ".py",
   "mimetype": "text/x-python",
   "name": "python",
   "nbconvert_exporter": "python",
   "pygments_lexer": "ipython3",
   "version": "3.9.7"
  }
 },
 "nbformat": 4,
 "nbformat_minor": 4
}
